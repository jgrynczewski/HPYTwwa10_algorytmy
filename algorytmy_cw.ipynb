{
 "cells": [
  {
   "cell_type": "markdown",
   "id": "loved-contemporary",
   "metadata": {},
   "source": [
    "## Algorytmy\n",
    "\n",
    "### Wstęp"
   ]
  },
  {
   "cell_type": "markdown",
   "id": "oriented-cleaners",
   "metadata": {},
   "source": [
    "#### Zadanie 1\n",
    "Napisz funkcję, która zwraca pole kwadratu o zdanym boku."
   ]
  },
  {
   "cell_type": "code",
   "execution_count": 13,
   "id": "coral-lobby",
   "metadata": {},
   "outputs": [
    {
     "name": "stdout",
     "output_type": "stream",
     "text": [
      "16\n",
      "160000\n"
     ]
    }
   ],
   "source": [
    "def area(a):\n",
    "    return a*a\n",
    "\n",
    "print(area(4))\n",
    "print(area(400))\n",
    "\n",
    "# Przykład użycia\n",
    "# area(4) -> 16\n",
    "# area(400) -> 160000"
   ]
  },
  {
   "cell_type": "markdown",
   "id": "graphic-praise",
   "metadata": {},
   "source": [
    "#### Zadanie 2\n",
    "Znajdź największy wspólny dzielnik dwóch zadanych liczb."
   ]
  },
  {
   "cell_type": "code",
   "execution_count": 20,
   "id": "piano-canvas",
   "metadata": {},
   "outputs": [
    {
     "name": "stdout",
     "output_type": "stream",
     "text": [
      "8\n",
      "16\n"
     ]
    }
   ],
   "source": [
    "# Algorytm Euklidesa (opis słowny)\n",
    "\n",
    "# Dla dwóch liczb a, b\n",
    "# 1. powtarzaj dopóki b>0\n",
    "#       a -> b\n",
    "#       b -> a%b\n",
    "# 2. zwróć a\n",
    "\n",
    "def nwd(a, b):\n",
    "    while b > 0:\n",
    "        a, b = b, a%b\n",
    "    return a\n",
    "\n",
    "\n",
    "print(nwd(16, 24))\n",
    "print(nwd(16, 16))\n",
    "\n",
    "# Przykład użycia\n",
    "# nwd(16, 24) -> 8\n",
    "# nwd(16, 16) -> 16  # najlepszy przypadek"
   ]
  },
  {
   "cell_type": "markdown",
   "id": "abroad-watershed",
   "metadata": {},
   "source": [
    "### Rekurencja (rekursja)"
   ]
  },
  {
   "cell_type": "markdown",
   "id": "varying-census",
   "metadata": {},
   "source": [
    "#### Zadanie 3\n",
    "Napisz funkcję liczącą silnie zadanego parametru."
   ]
  },
  {
   "cell_type": "code",
   "execution_count": 25,
   "id": "postal-teacher",
   "metadata": {},
   "outputs": [
    {
     "name": "stdout",
     "output_type": "stream",
     "text": [
      "120\n",
      "1\n",
      "120\n",
      "1\n"
     ]
    }
   ],
   "source": [
    "# Iteracyjnie\n",
    "def factorial_iter(n):\n",
    "    result = 1  # 1\n",
    "    for item in range(1, n+1):  # n\n",
    "        result = result * item  # n+n\n",
    "    \n",
    "    return result\n",
    "\n",
    "print(factorial_iter(5))\n",
    "print(factorial_iter(1))\n",
    "\n",
    "\n",
    "# Rekurencyjnie\n",
    "def factorial_rec(n):\n",
    "    if n==1:\n",
    "        return 1\n",
    "    else:\n",
    "        return n*factorial_rec(n-1)\n",
    "\n",
    "    \n",
    "print(factorial_rec(5))\n",
    "print(factorial_rec(1))\n",
    "# Przykład użycia\n",
    "# factorial(5) -> 120\n",
    "# factorial(1) -> 1"
   ]
  },
  {
   "cell_type": "markdown",
   "id": "responsible-credits",
   "metadata": {},
   "source": [
    "Oszacowanie złożoności obliczeniowej wersji iteracyjnej algorytmu\n",
    "\n",
    "**Analitycznie**:\n",
    "\n",
    "T(n) = 1+n+n+n = 3*n + 1\n",
    "Czynnik dominujący w funkcji T(n) to n\n",
    "\n",
    "f(n) = n --> O(n) - złożoność liniowa\n",
    "\n",
    "**Heurystycznie**:\n",
    "\n",
    "Zauważamy, że w algorytmie występuje pętla po wartościach od 1 do n, gdzie n to parametr wejściowy.\n",
    "Dlatego złożoność obliczoniowa algorytmu to O(n)\n"
   ]
  },
  {
   "cell_type": "markdown",
   "id": "technical-serbia",
   "metadata": {},
   "source": [
    "# Zadanie 4\n",
    "Napisz funkcję, która zsumuje wszystkie liczby od zadanej liczby do 1."
   ]
  },
  {
   "cell_type": "code",
   "execution_count": 4,
   "id": "received-surname",
   "metadata": {},
   "outputs": [],
   "source": [
    "# Iteracyjnie\n",
    "def sum_to_one(n):\n",
    "    ...\n",
    "\n",
    "    \n",
    "# Przykład użycia\n",
    "# sum_to_one(10) -> 45\n",
    "# sum_to_one(5) -> 15"
   ]
  },
  {
   "cell_type": "markdown",
   "id": "intermediate-remains",
   "metadata": {},
   "source": [
    "#### Zadanie 5\n",
    "Napisz funkcję liczącą n-ty element ciągu Fibonacciego."
   ]
  },
  {
   "cell_type": "code",
   "execution_count": 5,
   "id": "monetary-empire",
   "metadata": {},
   "outputs": [],
   "source": [
    "# Rekurencyjnie\n",
    "def fib(n):\n",
    "    ...\n",
    "\n",
    "\n",
    "# Przykład użycia\n",
    "# fib(3) -> 2\n",
    "# fib(10) -> 55"
   ]
  },
  {
   "cell_type": "markdown",
   "id": "fifteen-forty",
   "metadata": {},
   "source": [
    "#### Zadanie 6\n",
    "Napisz funkcję liczącą sumę cyfr zadanej liczby."
   ]
  },
  {
   "cell_type": "code",
   "execution_count": 6,
   "id": "hollywood-glory",
   "metadata": {},
   "outputs": [],
   "source": [
    "def sum_digit(n):\n",
    "    ...\n",
    "\n",
    "\n",
    "# Przykład użycia\n",
    "# sum_digit(123) -> 6 (bo 1+2+3=6)"
   ]
  },
  {
   "cell_type": "markdown",
   "id": "pleased-actor",
   "metadata": {},
   "source": [
    "#### Zadanie 7\n",
    "Napisz funkcję znajdującą wartość najmniejszą na zadanej liście."
   ]
  },
  {
   "cell_type": "code",
   "execution_count": 7,
   "id": "adaptive-pasta",
   "metadata": {},
   "outputs": [],
   "source": [
    "def find_min(a_list):\n",
    "    ...\n",
    "\n",
    "    \n",
    "# Przykład użycia\n",
    "# find_min([3,5,1,53]) -> 1\n",
    "# find_min([-42, 3, 0, 23]) -> -42\n",
    "# fin_min([]) -> None"
   ]
  },
  {
   "cell_type": "markdown",
   "id": "enhanced-greene",
   "metadata": {},
   "source": [
    "#### Zadanie 8\n",
    "Napisz funkcję sprawdzającą czy zadany napis jest palindromem."
   ]
  },
  {
   "cell_type": "code",
   "execution_count": 8,
   "id": "occupied-microphone",
   "metadata": {},
   "outputs": [],
   "source": [
    "def is_palindrom(a_string):\n",
    "    ...\n",
    "    \n",
    "    \n",
    "# Przykład użycia\n",
    "# is_palindrom(\"Kobyła ma mały bok\") -> True\n",
    "# is_palindrom(\"kot\") -> False"
   ]
  },
  {
   "cell_type": "markdown",
   "id": "brown-cream",
   "metadata": {},
   "source": [
    "### Algorytmy wyszukiwania\n",
    "\n",
    "#### Przeszukiwanie liniowe"
   ]
  },
  {
   "cell_type": "code",
   "execution_count": 9,
   "id": "sealed-russia",
   "metadata": {},
   "outputs": [],
   "source": [
    "def linear_search(search_list, target):\n",
    "    ...\n",
    "    \n",
    "\n",
    "# Przykład użycia\n",
    "# a_list = [1, 4, 6, 23, 5, 2]\n",
    "# linear_search(a_list, 6) -> 2\n",
    "# linear_search(a_list, 10) -> None\n",
    "# linear_search(a_list, 5) -> 4"
   ]
  },
  {
   "cell_type": "markdown",
   "id": "olive-florence",
   "metadata": {},
   "source": [
    "#### Przeszukiwanie binarne\n",
    "Iteracyjnie"
   ]
  },
  {
   "cell_type": "code",
   "execution_count": 10,
   "id": "logical-finland",
   "metadata": {},
   "outputs": [],
   "source": [
    "def binary_search(sorted_list, target):\n",
    "    ...\n",
    "    \n",
    "\n",
    "# Przykład użycia\n",
    "# a_list = [1, 4, 6, 23, 5, 2]\n",
    "# binary_search(a_list, 6) -> 2\n",
    "# binary_search(a_list, 10) -> None\n",
    "# binary_search(a_list, 5) -> 4"
   ]
  },
  {
   "cell_type": "markdown",
   "id": "medium-shopping",
   "metadata": {},
   "source": [
    "Rekurencyjnie"
   ]
  },
  {
   "cell_type": "code",
   "execution_count": 11,
   "id": "automatic-exclusive",
   "metadata": {},
   "outputs": [],
   "source": [
    "def binary_search_recursion(sorted_list, left_pointer, right_pointer, target):\n",
    "    ...\n",
    "    \n",
    "\n",
    "# Przykład użycia\n",
    "# a_list = [1, 2, 4, 5, 6, 23]\n",
    "# binary_search(a_list, 0, len(a_list)-1, 6) -> 4\n",
    "# binary_search(a_list, 0, len(a_list)-1, 10) -> None\n",
    "# binary_search(a_list, 0, len(a_list)-1, 4) -> 2\n",
    "# binary_search(a_list, 0, len(a_list)-1, 2) -> 5"
   ]
  },
  {
   "cell_type": "markdown",
   "id": "parliamentary-birthday",
   "metadata": {},
   "source": [
    "### Algorytmy sortowania\n",
    "\n",
    "#### Sortowanie bąbelkowe"
   ]
  }
 ],
 "metadata": {
  "kernelspec": {
   "display_name": "Python 3",
   "language": "python",
   "name": "python3"
  },
  "language_info": {
   "codemirror_mode": {
    "name": "ipython",
    "version": 3
   },
   "file_extension": ".py",
   "mimetype": "text/x-python",
   "name": "python",
   "nbconvert_exporter": "python",
   "pygments_lexer": "ipython3",
   "version": "3.8.6"
  }
 },
 "nbformat": 4,
 "nbformat_minor": 5
}
