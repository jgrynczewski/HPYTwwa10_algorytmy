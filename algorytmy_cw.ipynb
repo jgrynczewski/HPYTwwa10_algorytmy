{
 "cells": [
  {
   "cell_type": "markdown",
   "id": "loved-contemporary",
   "metadata": {},
   "source": [
    "## Algorytmy\n",
    "\n",
    "### Wstęp"
   ]
  },
  {
   "cell_type": "markdown",
   "id": "oriented-cleaners",
   "metadata": {},
   "source": [
    "#### Zadanie 1\n",
    "Napisz funkcję, która zwraca pole kwadratu o zdanym boku."
   ]
  },
  {
   "cell_type": "code",
   "execution_count": 13,
   "id": "coral-lobby",
   "metadata": {},
   "outputs": [
    {
     "name": "stdout",
     "output_type": "stream",
     "text": [
      "16\n",
      "160000\n"
     ]
    }
   ],
   "source": [
    "def area(a):\n",
    "    return a*a\n",
    "\n",
    "print(area(4))\n",
    "print(area(400))\n",
    "\n",
    "# Przykład użycia\n",
    "# area(4) -> 16\n",
    "# area(400) -> 160000"
   ]
  },
  {
   "cell_type": "markdown",
   "id": "graphic-praise",
   "metadata": {},
   "source": [
    "#### Zadanie 2\n",
    "Znajdź największy wspólny dzielnik dwóch zadanych liczb."
   ]
  },
  {
   "cell_type": "code",
   "execution_count": 20,
   "id": "piano-canvas",
   "metadata": {},
   "outputs": [
    {
     "name": "stdout",
     "output_type": "stream",
     "text": [
      "8\n",
      "16\n"
     ]
    }
   ],
   "source": [
    "# Algorytm Euklidesa (opis słowny)\n",
    "\n",
    "# Dla dwóch liczb a, b\n",
    "# 1. powtarzaj dopóki b>0\n",
    "#       a -> b\n",
    "#       b -> a%b\n",
    "# 2. zwróć a\n",
    "\n",
    "def nwd(a, b):\n",
    "    while b > 0:\n",
    "        a, b = b, a%b\n",
    "    return a\n",
    "\n",
    "\n",
    "print(nwd(16, 24))\n",
    "print(nwd(16, 16))\n",
    "\n",
    "# Przykład użycia\n",
    "# nwd(16, 24) -> 8\n",
    "# nwd(16, 16) -> 16  # najlepszy przypadek"
   ]
  },
  {
   "cell_type": "markdown",
   "id": "abroad-watershed",
   "metadata": {},
   "source": [
    "### Rekurencja (rekursja)"
   ]
  },
  {
   "cell_type": "markdown",
   "id": "varying-census",
   "metadata": {},
   "source": [
    "#### Zadanie 3\n",
    "Napisz funkcję liczącą silnie zadanego parametru."
   ]
  },
  {
   "cell_type": "code",
   "execution_count": 25,
   "id": "postal-teacher",
   "metadata": {},
   "outputs": [
    {
     "name": "stdout",
     "output_type": "stream",
     "text": [
      "120\n",
      "1\n",
      "120\n",
      "1\n"
     ]
    }
   ],
   "source": [
    "# Iteracyjnie\n",
    "def factorial_iter(n):\n",
    "    result = 1  # 1\n",
    "    for item in range(1, n+1):  # 1 przypisanie dla item, to wszystko n razy (bo pętla)\n",
    "        result = result * item  # 1 mnożenie + 1 przypisanie\n",
    "    \n",
    "    return result\n",
    "\n",
    "print(factorial_iter(5))\n",
    "print(factorial_iter(1))\n",
    "\n",
    "\n",
    "# Rekurencyjnie\n",
    "def factorial_rec(n):\n",
    "    if n==1:\n",
    "        return 1\n",
    "    else:\n",
    "        return n*factorial_rec(n-1)\n",
    "\n",
    "\n",
    "print(factorial_rec(5))\n",
    "print(factorial_rec(1))\n",
    "# Przykład użycia\n",
    "# factorial(5) -> 120\n",
    "# factorial(1) -> 1"
   ]
  },
  {
   "cell_type": "markdown",
   "id": "responsible-credits",
   "metadata": {},
   "source": [
    "### Oszacowanie złożoności obliczeniowej wersji iteracyjnej algorytmu\n",
    "\n",
    "**Analitycznie**:\n",
    "\n",
    "Liczba instrukcji podstawowych (w funkcji rozmiaru parametru wejściowego)\n",
    "\n",
    "$T(n) = 1 + n \\cdot (1+1+1)$\n",
    "\n",
    "$T(n) = 3 \\cdot n + 1$\n",
    "\n",
    "Czynnik dominujący w funkcji T(n) to n\n",
    "\n",
    "$f(n) = n$  \n",
    "\n",
    "$O(n)$ - złożoność liniowa\n",
    "\n",
    "**Heurystycznie**:\n",
    "\n",
    "Zauważamy, że w algorytmie występuje pętla po wartościach od 1 do n, gdzie n to parametr wejściowy.\n",
    "Dlatego złożoność obliczoniowa algorytmu to O(n)\n",
    "\n",
    "### Oszacowanie złożoności obliczeniowej wersji rekurencyjnej algorytmu\n",
    "\n",
    "**Heurystycznie**\n",
    "\n",
    "Złożoność obliczeniowa zależy do dwóch czynników:\n",
    "\n",
    "1. Liczby użytych w funkcji formuł rekruencyjnych (złożoność eksponencjalnie, dla dwóch formuł rekruencyjych mamy $O(2^{n})$\n",
    "\n",
    "U nas jedna formuła rekurencyjna\n",
    "\n",
    "2. Kroku rekurencji\n",
    "\n",
    "U nas krok liniowy - w każdym wywołaniu zmniejszamy n o 1\n",
    "\n",
    "$O(n)$ - złożoność liniowa"
   ]
  },
  {
   "cell_type": "markdown",
   "id": "technical-serbia",
   "metadata": {},
   "source": [
    "#### Zadanie 4\n",
    "Napisz funkcję, która zsumuje wszystkie liczby od zadanej liczby do 1."
   ]
  },
  {
   "cell_type": "code",
   "execution_count": 10,
   "id": "received-surname",
   "metadata": {
    "scrolled": true
   },
   "outputs": [
    {
     "name": "stdout",
     "output_type": "stream",
     "text": [
      "Rozwiązanie iteracyjne dla n=10: 55\n",
      "Rozwiązanie iteracyjne dla n=5 15\n",
      "\n",
      "\n",
      "Rozwiązanie rekurencyjne dla n=10: 55\n",
      "Rozwiązanie rekurencyjne dla n=5 15\n",
      "\n",
      "\n",
      "Rozwiązanie analityczne dla n=10: 55.0\n",
      "Rozwiązanie analityczne dla n=5 15.0\n"
     ]
    }
   ],
   "source": [
    "# Iteracyjnie\n",
    "def sum_to_one_iteration(n):\n",
    "    result = 0  # 1\n",
    "    for item in range(n, 0, -1):  # 1 przypisanie, wszystko razy n (bo w pętli)\n",
    "        result = result + item  # 1 suma, 1 przypisanie \n",
    "    \n",
    "    return result\n",
    "\n",
    "print(f\"Rozwiązanie iteracyjne dla n=10: {sum_to_one_iteration(10)}\")\n",
    "print(f\"Rozwiązanie iteracyjne dla n=5 {sum_to_one_iteration(5)}\")\n",
    "\n",
    "print(\"\\n\")\n",
    "\n",
    "# Rekurencyjne\n",
    "def sum_to_one_recursive(n):\n",
    "    if n==1:\n",
    "        return 1\n",
    "    else:\n",
    "        return n + sum_to_one_recursive(n-1)\n",
    "\n",
    "print(f\"Rozwiązanie rekurencyjne dla n=10: {sum_to_one_recursive(10)}\")\n",
    "print(f\"Rozwiązanie rekurencyjne dla n=5 {sum_to_one_recursive(5)}\")\n",
    "\n",
    "print(\"\\n\")\n",
    "\n",
    "# Analityczne\n",
    "def sum_to_one_analitical(n):\n",
    "    return ((1+n)/2)*n  # 3\n",
    "\n",
    "print(f\"Rozwiązanie analityczne dla n=10: {sum_to_one_analitical(10)}\")\n",
    "print(f\"Rozwiązanie analityczne dla n=5 {sum_to_one_analitical(5)}\")\n",
    "\n",
    "\n",
    "# Przykład użycia\n",
    "# sum_to_one(10) -> 55\n",
    "# sum_to_one(5) -> 15"
   ]
  },
  {
   "cell_type": "markdown",
   "id": "consecutive-communist",
   "metadata": {},
   "source": [
    "Oszacowanie czasowej złożoności algorytmyu iteracyjnego\n",
    "\n",
    "$T(n) = 1 + n * (1+1+1)$\n",
    "\n",
    "$T(n) = 3 \\cdot n + 1$\n",
    "\n",
    "$f(n) = n$\n",
    "\n",
    "$O(n)$\n",
    "\n",
    "Oszacowanie czasowej złożoności algorytmu rekurencyjnego\n",
    "\n",
    "Jedna formuła rekurencyjna, krok liniowy -> $O(n)$\n",
    "\n",
    "Oszacowanie czasowej złożoności algorytmu analitycznego\n",
    "\n",
    "$T(n) = 3$\n",
    "\n",
    "$f(n) = 1$\n",
    "\n",
    "$O(1)$ - złożoność stała"
   ]
  },
  {
   "cell_type": "markdown",
   "id": "intermediate-remains",
   "metadata": {},
   "source": [
    "#### Zadanie 5\n",
    "Napisz funkcję liczącą n-ty element ciągu Fibonacciego."
   ]
  },
  {
   "cell_type": "code",
   "execution_count": 18,
   "id": "monetary-empire",
   "metadata": {},
   "outputs": [
    {
     "name": "stdout",
     "output_type": "stream",
     "text": [
      "2\n",
      "55\n",
      "2\n",
      "55\n"
     ]
    }
   ],
   "source": [
    "# Rekurencyjnie\n",
    "def fib_recursive(n):\n",
    "    if n==0:\n",
    "        return 0\n",
    "    elif n==1:\n",
    "        return 1\n",
    "    else:\n",
    "        return fib_recursive(n-1) + fib_recursive(n-2)\n",
    "\n",
    "print(fib_recursive(3))\n",
    "print(fib_recursive(10))\n",
    "\n",
    "# Iteracyjnie\n",
    "def fib_iter(n):\n",
    "    a0 = 0  # 1\n",
    "    a1 = 1  # 1\n",
    "    if n == 0:  # 1\n",
    "        return a0\n",
    "    elif n == 1:  #  1\n",
    "        return a1\n",
    "    else:        \n",
    "        for item in range(n-1): # 1, n-1 razy\n",
    "            a0, a1 = a1, a0+a1  # 1 sumowanie, 2 przypisania\n",
    "    \n",
    "    return a1      \n",
    "    \n",
    "print(fib_iter(3))\n",
    "print(fib_iter(10))\n",
    "    \n",
    "\n",
    "# Przykład użycia\n",
    "# fib(3) -> 2\n",
    "# fib(10) -> 55"
   ]
  },
  {
   "cell_type": "markdown",
   "id": "banner-wages",
   "metadata": {},
   "source": [
    "Złożoność obliczeniowa algorytmu rekurencyjnego\n",
    "\n",
    "Dwie formuły rekurencyjne, krok liniowy -> $O(2^{n})$ - wykładnicza (aka eksponencjalna)\n",
    "\n",
    "Złożoność obliczeniowa algorytmu iteracyjnego\n",
    "\n",
    "$T(n) = 1+1+1+1 + (n-1) \\cdot (1+1+2)$\n",
    "\n",
    "$T(n) = 4 + 4n - 4 = 4n$\n",
    "\n",
    "$f(n) = n$\n",
    "\n",
    "$O(n)$ - liniowa"
   ]
  },
  {
   "cell_type": "markdown",
   "id": "fifteen-forty",
   "metadata": {},
   "source": [
    "#### Zadanie 6\n",
    "Napisz funkcję liczącą sumę cyfr zadanej liczby."
   ]
  },
  {
   "cell_type": "code",
   "execution_count": 6,
   "id": "hollywood-glory",
   "metadata": {},
   "outputs": [],
   "source": [
    "def sum_digit(n):\n",
    "    ...\n",
    "\n",
    "\n",
    "# Przykład użycia\n",
    "# sum_digit(123) -> 6 (bo 1+2+3=6)"
   ]
  },
  {
   "cell_type": "markdown",
   "id": "pleased-actor",
   "metadata": {},
   "source": [
    "#### Zadanie 7\n",
    "Napisz funkcję znajdującą wartość najmniejszą na zadanej liście."
   ]
  },
  {
   "cell_type": "code",
   "execution_count": 7,
   "id": "adaptive-pasta",
   "metadata": {},
   "outputs": [],
   "source": [
    "def find_min(a_list):\n",
    "    ...\n",
    "\n",
    "    \n",
    "# Przykład użycia\n",
    "# find_min([3,5,1,53]) -> 1\n",
    "# find_min([-42, 3, 0, 23]) -> -42\n",
    "# fin_min([]) -> None"
   ]
  },
  {
   "cell_type": "markdown",
   "id": "enhanced-greene",
   "metadata": {},
   "source": [
    "#### Zadanie 8\n",
    "Napisz funkcję sprawdzającą czy zadany napis jest palindromem."
   ]
  },
  {
   "cell_type": "code",
   "execution_count": 8,
   "id": "occupied-microphone",
   "metadata": {},
   "outputs": [],
   "source": [
    "def is_palindrom(a_string):\n",
    "    ...\n",
    "    \n",
    "    \n",
    "# Przykład użycia\n",
    "# is_palindrom(\"Kobyła ma mały bok\") -> True\n",
    "# is_palindrom(\"kot\") -> False"
   ]
  },
  {
   "cell_type": "markdown",
   "id": "brown-cream",
   "metadata": {},
   "source": [
    "### Algorytmy wyszukiwania\n",
    "\n",
    "#### Przeszukiwanie liniowe"
   ]
  },
  {
   "cell_type": "code",
   "execution_count": 9,
   "id": "sealed-russia",
   "metadata": {},
   "outputs": [
    {
     "name": "stdout",
     "output_type": "stream",
     "text": [
      "2\n",
      "None\n",
      "4\n",
      "532\n",
      "-1\n"
     ]
    }
   ],
   "source": [
    "def linear_search(search_list, target):\n",
    "    for idx in range(len(search_list)):  # 1 przypisanie, wszystko razy (bo pętla) + 1 operacja na len \n",
    "        if search_list[idx] == target:  # 1 get item, 1 porównanie\n",
    "            return idx\n",
    "        \n",
    "    return None\n",
    "\n",
    "a_list = [1, 4, 6, 23, 5, 2]\n",
    "\n",
    "print(linear_search(a_list, 6))\n",
    "print(linear_search(a_list, 10))\n",
    "print(linear_search(a_list, 5))\n",
    "\n",
    "# Przykład użycia\n",
    "# a_list = [1, 4, 6, 23, 5, 2]\n",
    "# linear_search(a_list, 6) -> 2\n",
    "# linear_search(a_list, 10) -> None\n",
    "# linear_search(a_list, 5) -> 4\n",
    "\n",
    "# Przykładowe zastoswanie\n",
    "# Znajdywanie wartości maksymalnej\n",
    "\n",
    "def find_max(a_list):\n",
    "    maximum = a_list[0]  # 1 get_item, 1 przypisanie\n",
    "    for idx in range(1, len(a_list)):  # 1 przypisanie idx, a wszystko razy n-1 bo pętla\n",
    "        current_value = a_list[idx]  # 1 get_item, 1 przypisanie\n",
    "        if current_value > maximum:  # 1 porówanie\n",
    "            maximum = current_value  # 1 przypisanie\n",
    "    return maximum\n",
    "\n",
    "print(find_max([1, 4, 24, 532, 4, 321]))\n",
    "print(find_max([-1, -4, -24, -532, -4, -321]))\n",
    "\n",
    "# Znajdywanie duplikatów - do przecwiczenia\n",
    "def find_duplicates(a_list):\n",
    "    ..."
   ]
  },
  {
   "cell_type": "markdown",
   "id": "hundred-dublin",
   "metadata": {},
   "source": [
    "Oszacowanie złożonośc obliczeniowej\n",
    "\n",
    "$T(n) = n \\cdot (1+1+1) + 1$\n",
    "\n",
    "$T(n) = 3 \\cdot n + 1$\n",
    "\n",
    "$f(n) = n$\n",
    "\n",
    "$O(n)$ - złożoność liniowa\n",
    "\n",
    "#### Znajdywanie maksimum\n",
    "\n",
    "Obliczeniowa złożoność czasowa:\n",
    "\n",
    "* heurystycznie - O(n)\n",
    "* analitycznie:\n",
    "\n",
    "$T(n) = 1 + (n-1) \\cdot (1+1+1+1+1)$\n",
    "\n",
    "$T(n) = 1 + (n-1) \\cdot 5$\n",
    "\n",
    "$T(n) = 1 + 5n - 5$\n",
    "\n",
    "$T(n) = 5n - 4$\n",
    "\n",
    "$f(n) = n$\n",
    "\n",
    "$O(n)$ - złożoność liniowa"
   ]
  },
  {
   "cell_type": "markdown",
   "id": "olive-florence",
   "metadata": {},
   "source": [
    "#### Przeszukiwanie binarne\n",
    "Iteracyjnie"
   ]
  },
  {
   "cell_type": "code",
   "execution_count": 59,
   "id": "logical-finland",
   "metadata": {},
   "outputs": [
    {
     "name": "stdout",
     "output_type": "stream",
     "text": [
      "5\n",
      "None\n",
      "2\n"
     ]
    }
   ],
   "source": [
    "def binary_search(sorted_list, target):\n",
    "    left_pointer = 0  # 1\n",
    "    right_pointer = len(sorted_list)-1  # 1 len, 1 odejmowanie, 1 przypisanie\n",
    "    \n",
    "    while left_pointer <= right_pointer: # 1 porównanie, wszystko razy log(n) (bo pętla i podzielić na pół \n",
    "        # możemy nie więcej niż log(n) razy dla n-elementowej listy)\n",
    "        mid_idx = (left_pointer + right_pointer) // 2 # 1 dzielenie, 1 dodawania, 1 przypisanie\n",
    "        mid_value = sorted_list[mid_idx]  # 1 get item, 1 przypisanie\n",
    "        \n",
    "        if mid_value == target:  # 1 porównanie\n",
    "            return mid_idx\n",
    "        elif target > mid_value:  # 1 porównanie\n",
    "            left_pointer = mid_idx+1  # 1 dodawanie, 1 przypisanie\n",
    "        elif target < mid_value:  # 1 porównanie\n",
    "            right_pointer = mid_idx-1   # 1 odejmowanie, 1 przypisanie\n",
    "    \n",
    "    return None\n",
    "\n",
    "\n",
    "a_list = [1, 4, 5, 8, 9, 12, 18, 32, 65]\n",
    "print(binary_search(a_list, 12))\n",
    "print(binary_search(a_list, 10))\n",
    "print(binary_search(a_list, 5))\n",
    "\n",
    "# Przykład użycia\n",
    "# a_list = [1, 4, 5, 6, 23]\n",
    "# binary_search(a_list, 6) -> 3\n",
    "# binary_search(a_list, 10) -> None\n",
    "# binary_search(a_list, 5) -> 2"
   ]
  },
  {
   "cell_type": "markdown",
   "id": "voluntary-investment",
   "metadata": {},
   "source": [
    "Oszacowanie złożoności algorytmu iteracyjnego\n",
    "\n",
    "$T(n) = 1+1+1+1 + log(n) \\cdot 11$ 11 instrukcji w pętli dla najgorszego przypadku - czyli szukany element mniejszy niż najmniejszy element na liście\n",
    "\n",
    "$T(n) = 11 \\cdot log(n) + 4$\n",
    "\n",
    "$f(n) = log(n)$\n",
    "\n",
    "$O(log(n))$ - złożoność logarytmiczna"
   ]
  },
  {
   "cell_type": "markdown",
   "id": "medium-shopping",
   "metadata": {},
   "source": [
    "Rekurencyjnie"
   ]
  },
  {
   "cell_type": "code",
   "execution_count": 57,
   "id": "automatic-exclusive",
   "metadata": {},
   "outputs": [
    {
     "name": "stdout",
     "output_type": "stream",
     "text": [
      "4\n",
      "None\n",
      "2\n",
      "1\n"
     ]
    }
   ],
   "source": [
    "def binary_search_recursion(sorted_list, left_pointer, right_pointer, target):\n",
    "    if left_pointer > right_pointer:\n",
    "        return None\n",
    "    \n",
    "    mid_idx = (left_pointer + right_pointer) // 2\n",
    "    mid_value = sorted_list[mid_idx]\n",
    "    \n",
    "    if mid_value == target:\n",
    "        return mid_idx\n",
    "\n",
    "    if target > mid_value:\n",
    "        return binary_search_recursion(sorted_list, mid_idx+1, right_pointer, target)    \n",
    "    \n",
    "    if target < mid_value:\n",
    "        return binary_search_recursion(sorted_list, left_pointer, mid_idx-1, target)\n",
    "\n",
    "a_list = [1, 2, 4, 5, 6, 23]\n",
    "print(binary_search_recursion(a_list, 0, len(a_list)-1, 6)) \n",
    "print(binary_search_recursion(a_list, 0, len(a_list)-1, 10))\n",
    "print(binary_search_recursion(a_list, 0, len(a_list)-1, 4))\n",
    "print(binary_search_recursion(a_list, 0, len(a_list)-1, 2))\n",
    "\n",
    "# Przykład użycia\n",
    "# a_list = [1, 2, 4, 5, 6, 23]\n",
    "# binary_search(a_list, 0, len(a_list)-1, 6) -> 4\n",
    "# binary_search(a_list, 0, len(a_list)-1, 10) -> None\n",
    "# binary_search(a_list, 0, len(a_list)-1, 4) -> 2\n",
    "# binary_search(a_list, 0, len(a_list)-1, 2) -> 5"
   ]
  },
  {
   "cell_type": "markdown",
   "id": "applied-somewhere",
   "metadata": {},
   "source": [
    "Złożoność obliczeniowa algorytmu to $O(log(n))$"
   ]
  },
  {
   "cell_type": "markdown",
   "id": "parliamentary-birthday",
   "metadata": {},
   "source": [
    "## Algorytmy sortowania\n",
    "\n",
    "### Sortowanie bąbelkowe"
   ]
  },
  {
   "cell_type": "code",
   "execution_count": 11,
   "id": "dramatic-banner",
   "metadata": {},
   "outputs": [
    {
     "name": "stdout",
     "output_type": "stream",
     "text": [
      "[1, 2, 3]\n",
      "[1, 2, 3, 4, 5]\n"
     ]
    }
   ],
   "source": [
    "# Bubblesort\n",
    "def bubblesort(a_list):\n",
    "        for n in range(len(a_list)-1):  # 1 przypisanie, wszystko razy n-1 (bo pętla) + 1 na len\n",
    "            for idx in range(len(a_list)-1):  # 1 przypisanie, wszystko razy n-1 (bo pętla) + 1 na len\n",
    "                if a_list[idx] > a_list[idx+1]: # 1 sumowanie, 2 get item, 1 porównanie\n",
    "                    a_list[idx], a_list[idx+1] = a_list[idx+1], a_list[idx]  # 2 sumowanie, 4 get_item, 2 przypisania\n",
    "\n",
    "\n",
    "# Do optymalizacji\n",
    "                    \n",
    "a_list = [3, 2, 1]\n",
    "bubblesort(a_list)\n",
    "\n",
    "print(a_list)\n",
    "\n",
    "# Optymalizacja Buublesort\n",
    "def bubblesort_optimized(a_list):\n",
    "        i = 0\n",
    "        swapped = True\n",
    "        while swapped:\n",
    "            swapped = False\n",
    "            for idx in range(len(a_list)-i-1):\n",
    "                if a_list[idx] > a_list[idx+1]:\n",
    "                    a_list[idx], a_list[idx+1] = a_list[idx+1], a_list[idx]\n",
    "                    swapped = True\n",
    "            i+=1\n",
    "            \n",
    "b_list = [5,4,3,2,1]\n",
    "bubblesort_optimized(b_list)\n",
    "\n",
    "print(b_list)"
   ]
  },
  {
   "cell_type": "markdown",
   "id": "particular-anderson",
   "metadata": {},
   "source": [
    "#### Oszacowanie złożoności czasowej bubblesort:\n",
    "\n",
    "$T(n) = (n-1) \\cdot [ (n-1) \\cdot ( 1+1+2+1+2+4+2 ) + 1 + 1] + 1$\n",
    "\n",
    "$T(n) = (n-1) \\cdot [ (n-1) \\cdot 13 + 2] + 1$\n",
    "\n",
    "$T(n) = (n-1) \\cdot ( 13 \\cdot n - 11 ) + 1$\n",
    "\n",
    "$T(n) = 13 \\cdot n^{2} - 11 \\cdot n - 13 \\cdot n +11 + 1$\n",
    "\n",
    "$T(n) = 13 \\cdot n^{2} - 11 \\cdot n + 12 $\n",
    "\n",
    "$f(n) = n^{2}$\n",
    "\n",
    "$O(n^{2})$ - złożoność kwadratowa\n",
    "\n",
    "#### Złożoność pamięciowa\n",
    "\n",
    "$O(1)$ - stała (bo sortowanie w miejscu)\n",
    "\n",
    "#### Algorytm stabilny (czyli przy sortowaniu zachowuj kolejność duplikatów)\n"
   ]
  },
  {
   "cell_type": "markdown",
   "id": "informed-living",
   "metadata": {},
   "source": [
    "### Sortowanie przez wybieranie"
   ]
  },
  {
   "cell_type": "code",
   "execution_count": 5,
   "id": "familiar-amendment",
   "metadata": {},
   "outputs": [
    {
     "name": "stdout",
     "output_type": "stream",
     "text": [
      "[1, 2, 3, 4, 5]\n"
     ]
    }
   ],
   "source": [
    "#### Sortowanie przez wybieranie (selection sort)\n",
    "\n",
    "def selection_sort(a_list):\n",
    "    for i in range(len(a_list)):  # (n-1) + (n-2) + ... + 2 + 1, \n",
    "        min_idx = i\n",
    "        for idx in range(i, len(a_list)):\n",
    "            if a_list[idx] < a_list[min_idx]:\n",
    "                min_idx = idx\n",
    "\n",
    "        a_list[i], a_list[min_idx] = a_list[min_idx], a_list[i]\n",
    "    \n",
    "c_list = [3, 2, 1, 5, 4]\n",
    "selection_sort(c_list)\n",
    "print(c_list)\n"
   ]
  },
  {
   "cell_type": "markdown",
   "id": "thrown-domain",
   "metadata": {},
   "source": [
    "### Oszacowanie złożoności\n",
    "\n",
    "#### Czasowa\n",
    "$O(n^{2})$ - kwadratowa\n",
    "\n",
    "#### Pamięciowa\n",
    "$O(1)$ - Stała (ponieważ sortowanie w miejscu)\n",
    "\n",
    "#### Algorytm stabliny"
   ]
  },
  {
   "cell_type": "markdown",
   "id": "higher-apple",
   "metadata": {},
   "source": [
    "### Sortowanie przez wstawianie"
   ]
  },
  {
   "cell_type": "code",
   "execution_count": 11,
   "id": "descending-observation",
   "metadata": {},
   "outputs": [
    {
     "name": "stdout",
     "output_type": "stream",
     "text": [
      "[1, 2, 3]\n"
     ]
    }
   ],
   "source": [
    "def insertion_sort(a_list):\n",
    "    for i in range(1, len(a_list)):\n",
    "        current_value = a_list[i]\n",
    "        \n",
    "        j = i-1\n",
    "        while a_list[j] > current_value and j>=0:\n",
    "            a_list[j+1] = a_list[j]\n",
    "            j -= 1\n",
    "            \n",
    "        a_list[j+1] = current_value\n",
    "        \n",
    "a_list = [3, 2, 1]\n",
    "insertion_sort(a_list)\n",
    "print(a_list)"
   ]
  },
  {
   "cell_type": "markdown",
   "id": "isolated-zimbabwe",
   "metadata": {},
   "source": [
    "### Oszacowanie złożoności\n",
    "\n",
    "#### Czasowa\n",
    "$O(n^{2})$ - kwadratowa (oszacowanie pesymistyczne)\n",
    "\n",
    "$\\Omega(n)$ - liniowa (oszacowanie optymistyczne)\n",
    "\n",
    "#### Pamięciowa\n",
    "$O(1)$ - Stała (ponieważ sortowanie w miejscu)"
   ]
  },
  {
   "cell_type": "markdown",
   "id": "uniform-honey",
   "metadata": {},
   "source": [
    "### Sortowanie przez scalenie"
   ]
  },
  {
   "cell_type": "code",
   "execution_count": 17,
   "id": "welsh-wilson",
   "metadata": {},
   "outputs": [
    {
     "name": "stdout",
     "output_type": "stream",
     "text": [
      "[1, 2, 3, 4, 5, 6, 7, 9]\n"
     ]
    }
   ],
   "source": [
    "### Merge sort\n",
    "def merge_sort(a_list):\n",
    "    if len(a_list) <= 1:\n",
    "        return a_list\n",
    "    \n",
    "    middle_idx = len(a_list) // 2\n",
    "    left = a_list[:middle_idx]\n",
    "    right = a_list[middle_idx:]\n",
    "    \n",
    "    left_sorted = merge_sort(left)\n",
    "    right_sorted = merge_sort(right)\n",
    "\n",
    "    return merge(left_sorted, right_sorted)\n",
    "\n",
    "\n",
    "def merge(left, right):\n",
    "    result = []\n",
    "    \n",
    "    while left and right:\n",
    "        if left[0] < right[0]:\n",
    "            result.append(left[0])\n",
    "            left.pop(0)\n",
    "        else:\n",
    "            result.append(right[0])\n",
    "            right.pop(0)\n",
    "    \n",
    "    result += left if left else right\n",
    "        \n",
    "    return result\n",
    "\n",
    "# a = [1, 4, 6, 8]\n",
    "# b = [2, 4, 6, 7]\n",
    "\n",
    "# print(merge(a, b))\n",
    "\n",
    "print(merge_sort([9, 4, 6, 2, 7, 1, 3, 5]))"
   ]
  },
  {
   "cell_type": "markdown",
   "id": "exceptional-elephant",
   "metadata": {},
   "source": [
    "### Quicksort (sortowanie szybkie)"
   ]
  }
 ],
 "metadata": {
  "kernelspec": {
   "display_name": "Python 3",
   "language": "python",
   "name": "python3"
  },
  "language_info": {
   "codemirror_mode": {
    "name": "ipython",
    "version": 3
   },
   "file_extension": ".py",
   "mimetype": "text/x-python",
   "name": "python",
   "nbconvert_exporter": "python",
   "pygments_lexer": "ipython3",
   "version": "3.8.6"
  }
 },
 "nbformat": 4,
 "nbformat_minor": 5
}
